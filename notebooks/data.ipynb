{
 "cells": [
  {
   "cell_type": "code",
   "execution_count": null,
   "metadata": {},
   "outputs": [],
   "source": [
    "import nlpaug.augmenter.word as naw\n",
    "import pandas as pd\n",
    "\n",
    "df = pd.read_csv(\"train.csv\")\n",
    "df_filtered = df[df[\"stereotype\"] == 1].copy()\n",
    "df_filtered[\"id\"] = df_filtered[\"id\"].apply(lambda x: x + \"_a\")\n",
    "df_filtered[\"comment_id\"] = df_filtered[\"comment_id\"].apply(lambda x: x + \"_a\")\n",
    "\n",
    "back_translation_aug = naw.BackTranslationAug(\n",
    "    from_model_name='Helsinki-NLP/opus-mt-es-en', \n",
    "    to_model_name='Helsinki-NLP/opus-mt-en-es',\n",
    ")\n",
    "\n",
    "back_translate_text = back_translation_aug.augment(list(df_filtered['text'].values))\n",
    "df_filtered['text'] = back_translate_text\n",
    "\n",
    "df2 = pd.concat([df, df_filtered], axis=0, ignore_index=True)\n",
    "print(df.shape)\n",
    "print(df_filtered.shape)\n",
    "print(df2.shape)\n",
    "\n",
    "df2.to_csv(\"train_augmented.csv\")"
   ]
  },
  {
   "cell_type": "code",
   "execution_count": null,
   "metadata": {},
   "outputs": [],
   "source": [
    "import pandas as pd\n",
    "\n",
    "#Read original CSV file\n",
    "original_train_file = \"train.csv\"\n",
    "df = pd.read_csv(original_train_file)\n",
    "\n",
    "df[\"test_case\"] = \"DETEST-Dis\" #Add a new column\n",
    "\n",
    "df[\"stereotype\"] = df[\"stereotype\"].apply(lambda x: \"Stereotype\" if x == 1 else \"NoStereotype\")\n",
    "df[\"stereotype_soft\"] = df[\"stereotype_soft\"].apply(lambda x:{\"Stereotype\": x, \"NoStereotype\": 1 - x})\n",
    "\n",
    "df[\"implicit\"] = df[\"implicit\"].apply(lambda x: \"Implicit\" if x==1 else \"Explicit\")\n",
    "df[\"implicit_soft\"] = df[\"implicit_soft\"].apply(lambda x: {\"Implicit\": x, \"Explicit\": 1 - x})\n",
    "\n",
    "def json_eval_file(df, col_name, json_file_name):\n",
    "    df[\"value\"] = df[col_name].values\n",
    "    df[[\"id\", \"test_case\", \"value\"]].to_json(json_file_name, orient='records', indent=4)\n",
    "filtered_df = df[df[\"stereotype\"] == \"Stereotype\"]\n",
    "\n",
    "\n",
    "#Stereotype\n",
    "json_eval_file(df, \"stereotype\", \"train_stereotype_hard.json\")\n",
    "json_eval_file(df, \"stereotype_soft\", \"train_stereotype_soft.json\")\n",
    "#Implicit\n",
    "json_eval_file(filtered_df, \"implicit\", \"train_implicit_hard.json\")\n",
    "json_eval_file(filtered_df, \"implicit_soft\", \"train_implicit_soft.json\")"
   ]
  },
  {
   "cell_type": "code",
   "execution_count": null,
   "metadata": {},
   "outputs": [],
   "source": []
  }
 ],
 "metadata": {
  "kernelspec": {
   "display_name": "torch",
   "language": "python",
   "name": "python3"
  },
  "language_info": {
   "codemirror_mode": {
    "name": "ipython",
    "version": 3
   },
   "file_extension": ".py",
   "mimetype": "text/x-python",
   "name": "python",
   "nbconvert_exporter": "python",
   "pygments_lexer": "ipython3",
   "version": "3.12.5"
  }
 },
 "nbformat": 4,
 "nbformat_minor": 2
}
